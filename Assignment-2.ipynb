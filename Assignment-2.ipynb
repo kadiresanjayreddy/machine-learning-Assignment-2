{
 "cells": [
  {
   "cell_type": "code",
   "execution_count": 55,
   "id": "c23c3b1d",
   "metadata": {},
   "outputs": [
    {
     "name": "stdout",
     "output_type": "stream",
     "text": [
      "*  \n",
      "* *  \n",
      "* * *  \n",
      "* * * *  \n",
      "* * * * *  \n",
      "* * * * * *  \n",
      "* * * * * *  \n",
      "* * * * *  \n",
      "* * * *  \n",
      "* * *  \n",
      "* *  \n",
      "*  \n",
      " \n"
     ]
    }
   ],
   "source": [
    "# To create a star pattern using for loop \n",
    "rows = 6\n",
    "# Outer loop will print the number of rows  \n",
    "for i in range(0, rows):\n",
    "       # This inner loop will print the stars  \n",
    "    for j in range(0, i + 1):\n",
    "        print(\"*\", end=' ')\n",
    "          # Change line after each iteration  \n",
    "    print(\" \")\n",
    "    # For second pattern  \n",
    "for i in range(rows + 1, 0, -1):\n",
    "    for j in range(0, i - 1):\n",
    "        print(\"*\", end=' ')\n",
    "    print(\" \")"
   ]
  },
  {
   "attachments": {},
   "cell_type": "markdown",
   "id": "89b61d1b",
   "metadata": {},
   "source": [
    "the first for loop starts with i equal to 0 and continues until i is equal to rows (6). The inner for loop starts with j equal to 0 and continues until j is equal to i + 1. Each iteration of the inner loop prints a single asterisk and a space, creating a pyramid pattern.\n",
    "\n",
    "The second for loop starts with i equal to rows + 1  and continues until i is equal to 0, decrementing i by 1 in each iteration. This creates the reverse pyramid pattern. The inner loop starts with j equal to 0 and continues until j is equal to i - 1, printing a single asterisk and a space in each iteration."
   ]
  },
  {
   "cell_type": "code",
   "execution_count": 56,
   "id": "f16ebb8e",
   "metadata": {
    "scrolled": true
   },
   "outputs": [
    {
     "name": "stdout",
     "output_type": "stream",
     "text": [
      "20\n",
      "40\n",
      "60\n",
      "80\n",
      "100\n"
     ]
    }
   ],
   "source": [
    "# program to access odd index \n",
    "my_list = [10,20,30,40,50,60,70,80,90,100]\n",
    "for i in range(1, len(my_list),2):\n",
    "    print(my_list[i])"
   ]
  },
  {
   "attachments": {},
   "cell_type": "markdown",
   "id": "110e0d43",
   "metadata": {},
   "source": [
    "This code uses a for loop to iterate over the list, starting at index 1 and incrementing the index by 2 on each iteration. The elements present at odd indexes can be accessed using the my_list[i] syntax."
   ]
  },
  {
   "cell_type": "code",
   "execution_count": 57,
   "id": "17dcf573",
   "metadata": {},
   "outputs": [
    {
     "name": "stdout",
     "output_type": "stream",
     "text": [
      "[23, 'Python', 23.98]\n",
      "[<class 'int'>, <class 'str'>, <class 'float'>]\n"
     ]
    }
   ],
   "source": [
    "# the program  that appends the type of elements from a given list.\n",
    "x= [23,'Python',23.98]\n",
    "types = []\n",
    "# here the type of element used in the list is determined\n",
    "for element in x:\n",
    "    types.append(type(element))\n",
    "print(x)\n",
    "print(types)  \n",
    "\n"
   ]
  },
  {
   "attachments": {},
   "cell_type": "markdown",
   "id": "c68e8abb",
   "metadata": {},
   "source": [
    "This code creates an empty list called types, then uses a for loop to iterate over the elements in the given list x. On each iteration, the type of the current element is determined using the type function and appended to the types list using the append method. Finally, the list of types is printed to the console."
   ]
  },
  {
   "cell_type": "code",
   "execution_count": 58,
   "id": "2616c421",
   "metadata": {},
   "outputs": [
    {
     "name": "stdout",
     "output_type": "stream",
     "text": [
      "[1, 2, 3, 4, 5]\n"
     ]
    }
   ],
   "source": [
    "# code in which function that takes a list and returns a new list with unique items of the first list.\n",
    "def get_unique_list(lst):\n",
    "    # unique list is created\n",
    "    unique_list = []\n",
    "    # here the list is iterated and checks the current item is not repeated\n",
    "    for item in lst:\n",
    "        # here the elements are added to unique list\n",
    "        if item not in unique_list:\n",
    "            unique_list.append(item)\n",
    "    return unique_list\n",
    "\n",
    "sample_list = [1, 2, 3, 3, 3, 3, 4, 5]\n",
    "unique_list = get_unique_list(sample_list)\n",
    "print(unique_list)\n"
   ]
  },
  {
   "attachments": {},
   "cell_type": "markdown",
   "id": "13410d19",
   "metadata": {},
   "source": [
    "This code defines a function get_unique_list that takes a list lst as an argument. The function creates an empty list called unique_list, then uses a for loop to iterate over the elements in the input list lst. On each iteration, it checks if the current item is not already in the unique_list by using the not in operator. If it is not, the item is appended to unique_list. Finally, the unique_list is returned by the function. In the example, the get_unique_list function is applied to the sample_list and the result is stored in the unique_list variable. The unique_list is then printed to the console."
   ]
  },
  {
   "cell_type": "code",
   "execution_count": 59,
   "id": "cd12cd54",
   "metadata": {},
   "outputs": [
    {
     "name": "stdout",
     "output_type": "stream",
     "text": [
      "No. of Upper-case characters: 3\n",
      "No. of Lower-case characters: 12\n"
     ]
    }
   ],
   "source": [
    "# code in which function that accepts a string and calculate the number of upper-case letters and lower-case letters. \n",
    "def count_cases(s):\n",
    "    upper_count = 0\n",
    "    lower_count = 0\n",
    "    # here the string will be checked in every iteration and calculates the number of upper and lower-case letters in the string\n",
    "    for char in s:\n",
    "        if char.isupper():\n",
    "            upper_count += 1\n",
    "        elif char.islower():\n",
    "            lower_count += 1\n",
    "    return upper_count, lower_count\n",
    "\n",
    "input_string = 'The quick Brow Fox'\n",
    "upper_count, lower_count = count_cases(input_string)\n",
    "# here the number of upper and lower-case letters are printed\n",
    "print(\"No. of Upper-case characters:\", upper_count)\n",
    "print(\"No. of Lower-case characters:\", lower_count)"
   ]
  },
  {
   "attachments": {},
   "cell_type": "markdown",
   "id": "d41dc061",
   "metadata": {},
   "source": [
    "This code defines a function count_cases that takes a string s as an argument. The function initializes two variables, upper_count and lower_count, to keep track of the number of upper-case and lower-case letters respectively. It then uses a for loop to iterate over the characters in the input string s. On each iteration, it checks if the current character is an upper-case letter using the isupper method. If it is, the upper_count is incremented. If the character is not an upper-case letter, it checks if it is a lower-case letter using the islower method. If it is, the lower_count is incremented. Finally, the function returns the upper_count and lower_count values. In the example, the count_cases function is applied to the input_string and the result is stored in the upper_count and lower_count variables. The values are then printed to the console."
   ]
  }
 ],
 "metadata": {
  "kernelspec": {
   "display_name": "Python 3",
   "language": "python",
   "name": "python3"
  },
  "language_info": {
   "codemirror_mode": {
    "name": "ipython",
    "version": 3
   },
   "file_extension": ".py",
   "mimetype": "text/x-python",
   "name": "python",
   "nbconvert_exporter": "python",
   "pygments_lexer": "ipython3",
   "version": "3.10.9"
  },
  "vscode": {
   "interpreter": {
    "hash": "a3aab4919540bf3b8b93c0c60e84dfd5b3088439627f5f906b230c37ede04daf"
   }
  }
 },
 "nbformat": 4,
 "nbformat_minor": 5
}
